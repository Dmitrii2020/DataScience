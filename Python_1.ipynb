{
 "cells": [
  {
   "cell_type": "markdown",
   "metadata": {},
   "source": [
    "Для тройки ближайших значений определить является ли цифра посередине больше левого значения и меньше правого значения"
   ]
  },
  {
   "cell_type": "code",
   "execution_count": 38,
   "metadata": {},
   "outputs": [
    {
     "name": "stdout",
     "output_type": "stream",
     "text": [
      "2\n",
      "CPU times: user 307 µs, sys: 76 µs, total: 383 µs\n",
      "Wall time: 341 µs\n"
     ]
    }
   ],
   "source": [
    "%%time\n",
    "a = [1, 4, 6, 4, 6, 9, 1]\n",
    "c = []\n",
    "i = 0\n",
    "while i < len(a) - 2:\n",
    "    # print(i)\n",
    "    if a[i] < a[i + 1] and a[i + 1] < a[i + 2]:\n",
    "        b = 1\n",
    "        # print(i, a[i], '<', a[i + 1], '<', a[i + 2])\n",
    "        c.append(b)\n",
    "    i += 1\n",
    "print(sum(c))"
   ]
  },
  {
   "cell_type": "code",
   "execution_count": 39,
   "metadata": {},
   "outputs": [
    {
     "name": "stdout",
     "output_type": "stream",
     "text": [
      "2\n",
      "CPU times: user 268 µs, sys: 75 µs, total: 343 µs\n",
      "Wall time: 275 µs\n"
     ]
    }
   ],
   "source": [
    "%%time\n",
    "a = [1, 4, 6, 4, 6, 9, 1]\n",
    "c = []\n",
    "for i in range(len(a) - 2):\n",
    "    if a[i] < a[i + 1] and a[i + 1] < a[i + 2]:\n",
    "        b = 1\n",
    "        # print(i, a[i], '<', a[i + 1], '<', a[i + 2])\n",
    "        c.append(b)\n",
    "print(sum(c))"
   ]
  },
  {
   "cell_type": "markdown",
   "metadata": {},
   "source": [
    "Если сумма двух рядом стоящих цифр при делении на 920 дает остаток 3, то считаем такое событие, в противном случае - нет."
   ]
  },
  {
   "cell_type": "code",
   "execution_count": 42,
   "metadata": {},
   "outputs": [],
   "source": [
    "k = [1, 2, 4, 6, 8, 4, 3, 6, 8, 5, 3, 2, 4, 5, 6, 8, 9, 0, 0, 9, 7, 5, 4, 3, 2, 4, 5, 7, 8, 9]"
   ]
  },
  {
   "cell_type": "code",
   "execution_count": 55,
   "metadata": {},
   "outputs": [
    {
     "name": "stdout",
     "output_type": "stream",
     "text": [
      "1\n"
     ]
    }
   ],
   "source": [
    "l = []\n",
    "for number in range(len(k) - 1): # range не включает границу, разве это уже не минус 1?\n",
    "    n = (k[number] + k[number + 1]) % 920\n",
    "    if (k[number] + k[number + 1]) % 920 == 3:\n",
    "        m = 1\n",
    "        l.append(m)\n",
    "    # print(n, k[number], k[number + 1])\n",
    "print(sum(l))\n",
    "        "
   ]
  },
  {
   "cell_type": "code",
   "execution_count": 56,
   "metadata": {},
   "outputs": [
    {
     "name": "stdout",
     "output_type": "stream",
     "text": [
      "0.003260869565217391\n",
      "0.006521739130434782\n"
     ]
    }
   ],
   "source": [
    "print((1 + 2) / 920)\n",
    "print((2 + 4 ) / 920)"
   ]
  },
  {
   "cell_type": "code",
   "execution_count": 45,
   "metadata": {},
   "outputs": [
    {
     "data": {
      "text/plain": [
       "3"
      ]
     },
     "execution_count": 45,
     "metadata": {},
     "output_type": "execute_result"
    }
   ],
   "source": [
    "(1 + 2) % 920 # почему 3? Питон берет ближайшее число после нулей?"
   ]
  }
 ],
 "metadata": {
  "kernelspec": {
   "display_name": "Python 3",
   "language": "python",
   "name": "python3"
  },
  "language_info": {
   "codemirror_mode": {
    "name": "ipython",
    "version": 3
   },
   "file_extension": ".py",
   "mimetype": "text/x-python",
   "name": "python",
   "nbconvert_exporter": "python",
   "pygments_lexer": "ipython3",
   "version": "3.7.4"
  }
 },
 "nbformat": 4,
 "nbformat_minor": 2
}
