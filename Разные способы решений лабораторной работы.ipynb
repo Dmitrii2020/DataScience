{
 "cells": [
  {
   "cell_type": "markdown",
   "metadata": {},
   "source": [
    "Пункт 1\n",
    "Вам дан словарь с именами студентов и их оценками за курс по десятибаллной шкале. Напишите программу, которая бы считала среднюю оценку за курс и округляла ее (используйте функцию round()). Чтобы найти среднюю оценку нужно сложить оценки всех студентов за курс и разделить сумму на количество студентов. Найти сумму элементов списка, можно функцией sum(). Так, первый курс - это нулевой элемент списка оценок каждого студента.\n",
    "Программа должна приниматься на ввод номер курса (от 1 до 8, обратите внимание, что не от 0 до 7), а выводить среднюю оценку за этот курс.\n",
    "Пример ввода:\n",
    "1\n",
    "Пример вывода:\n",
    "Курс 1 - 4"
   ]
  },
  {
   "cell_type": "code",
   "execution_count": 2,
   "metadata": {},
   "outputs": [
    {
     "name": "stdout",
     "output_type": "stream",
     "text": [
      "5\n",
      "Курс 5 - 4\n",
      "CPU times: user 2.84 ms, sys: 1.9 ms, total: 4.74 ms\n",
      "Wall time: 2.2 s\n"
     ]
    }
   ],
   "source": [
    "%%time\n",
    "marks = {'Mary' :     [5, 8, 9, 10, 3, 5, 6, 6],\n",
    "         'John' :     [3, 3, 6, 8, 2, 1, 8, 5],\n",
    "         'Alex' :     [4, 4, 7, 4, 7, 3, 2, 9],\n",
    "         'Patricia' : [2, 1, 6, 8, 2, 3, 7, 4]}\n",
    "\n",
    "categories = {'отлично' : [8, 9, 10],\n",
    "              'хорошо' : [6, 7],\n",
    "              'удовлетворительно' : [4, 5],\n",
    "              'неуд' : [0, 1, 2, 3]}\n",
    "\n",
    "x = int(input())\n",
    "y = 0\n",
    "if x == 1:\n",
    "    y = round((list(marks.values())[0][0] + list(marks.values())[1][0] + list(marks.values())[2][0] + list(marks.values())[3][0])\\\n",
    "    / len(marks.keys()),0)\n",
    "    print('Курс 1 -',int(y))\n",
    "elif x == 2:\n",
    "    y = round((list(marks.values())[0][1] + list(marks.values())[1][1] + list(marks.values())[2][1] + list(marks.values())[3][1])\\\n",
    "    / len(marks.keys()),0)\n",
    "    print('Курс 2 -',int(y))\n",
    "elif x == 3:\n",
    "    y = round((list(marks.values())[0][2] + list(marks.values())[1][2] + list(marks.values())[2][2] + list(marks.values())[3][2])\\\n",
    "    / len(marks.keys()),0)\n",
    "    print('Курс 3 -',int(y))\n",
    "elif x == 4:\n",
    "    y = round((list(marks.values())[0][3] + list(marks.values())[1][3] + list(marks.values())[2][3] + list(marks.values())[3][3])\\\n",
    "    / len(marks.keys()),0)\n",
    "    print('Курс 4 -',int(y))\n",
    "elif x == 5:\n",
    "    y = round((list(marks.values())[0][4] + list(marks.values())[1][4] + list(marks.values())[2][4] + list(marks.values())[3][4])\\\n",
    "    / len(marks.keys()),0)\n",
    "    print('Курс 5 -',int(y))\n",
    "elif x == 6:\n",
    "    y = round((list(marks.values())[0][5] + list(marks.values())[1][5] + list(marks.values())[2][5] + list(marks.values())[3][5])\\\n",
    "    / len(marks.keys()),0)\n",
    "    print('Курс 6 -',int(y))\n",
    "elif x == 7:\n",
    "    y = round((list(marks.values())[0][6] + list(marks.values())[1][6] + list(marks.values())[2][6] + list(marks.values())[3][6])\\\n",
    "    / len(marks.keys()),0)\n",
    "    print('Курс 7 -',int(y))\n",
    "elif x == 8:\n",
    "    y = round((list(marks.values())[0][7] + list(marks.values())[1][7] + list(marks.values())[2][7] + list(marks.values())[3][7])\\\n",
    "    / len(marks.keys()),0)\n",
    "    print('Курс 8 -',int(y))\n",
    "else:\n",
    "    print('Bye')"
   ]
  },
  {
   "cell_type": "code",
   "execution_count": 4,
   "metadata": {},
   "outputs": [
    {
     "name": "stdout",
     "output_type": "stream",
     "text": [
      "5\n",
      "Mary 3 3\n",
      "John 2 5\n",
      "Alex 7 12\n",
      "Patricia 2 14\n",
      "Курс 5 - 4\n",
      "CPU times: user 3.31 ms, sys: 2.43 ms, total: 5.74 ms\n",
      "Wall time: 1.71 s\n"
     ]
    }
   ],
   "source": [
    "%%time\n",
    "course = int(input()) - 1\n",
    "count = 0\n",
    "previos = 0\n",
    "for students in marks:\n",
    "    count = marks[students][course]\n",
    "    previos += count\n",
    "    print(students, count, previos)\n",
    "print('Курс', course + 1, '-', int(round(previos / len(marks), 0)))"
   ]
  },
  {
   "cell_type": "code",
   "execution_count": 6,
   "metadata": {},
   "outputs": [
    {
     "data": {
      "text/plain": [
       "dict_keys(['Mary', 'John', 'Alex', 'Patricia'])"
      ]
     },
     "execution_count": 6,
     "metadata": {},
     "output_type": "execute_result"
    }
   ],
   "source": [
    "marks.keys()"
   ]
  },
  {
   "cell_type": "markdown",
   "metadata": {},
   "source": [
    "Пункт 2\n",
    "Напишите программу, которая бы сопостовляла оценку, найденную в предыдущем пункте, со вторым словарем, где оценкам в числах соответсвуют категории \"хорошо\", \"отлично\" и так далее. Программа принимает на ввод номер курса (от 1 до 8, обратите внимание, что не от 0 до 7), подсчитывает среднюю оценку за этот курс, а выводит буквенное значение оценки от \"неуд\" до \"отлично\" из словаря categories\n",
    "Пример ввода\n",
    "1\n",
    "Пример вывода:\n",
    "Курс 1 - удовлетворительно"
   ]
  },
  {
   "cell_type": "code",
   "execution_count": 72,
   "metadata": {},
   "outputs": [
    {
     "name": "stdout",
     "output_type": "stream",
     "text": [
      "Курс 4 - удовлетворительно\n"
     ]
    }
   ],
   "source": [
    "marks = {'Mary' : [5, 8, 9, 10, 3, 5, 6, 6],\n",
    "         'John' : [3, 3, 6, 8, 2, 1, 8, 5],\n",
    "         'Alex' : [4, 4, 7, 4, 7, 3, 2, 9],\n",
    "         'Patricia' : [2, 1, 6, 8, 2, 3, 7, 4]}\n",
    "\n",
    "categories = {'отлично' : [8, 9, 10],\n",
    "              'хорошо' : [6, 7],\n",
    "              'удовлетворительно' : [4, 5],\n",
    "              'неуд' : [0, 1, 2, 3]}\n",
    "\n",
    "if y == categories['отлично'][0] or y == categories['отлично'][1] or y == categories['отлично'][2]:\n",
    "    print('Курс',int(y), '- отлично')\n",
    "elif y == categories['хорошо'][0] or y == categories['хорошо'][1]:\n",
    "    print('Курс',int(y), '- хорошо')\n",
    "elif y == categories['удовлетворительно'][0] or y == categories['удовлетворительно'][1]:\n",
    "    print('Курс',int(y), '- удовлетворительно')\n",
    "elif y == categories['неуд'][0] or y == categories['неуд'][1]:\n",
    "    print('Курс',int(y), '- неуд')"
   ]
  },
  {
   "cell_type": "code",
   "execution_count": 14,
   "metadata": {},
   "outputs": [
    {
     "name": "stdout",
     "output_type": "stream",
     "text": [
      "Курс  6  -  неуд\n"
     ]
    }
   ],
   "source": [
    "number = int(round(previos / len(marks)))\n",
    "for categ in categories:\n",
    "    if number in categories[categ]:\n",
    "        print('Курс ', course + 1,  ' - ', categ)\n",
    "        break"
   ]
  },
  {
   "cell_type": "code",
   "execution_count": 96,
   "metadata": {},
   "outputs": [
    {
     "name": "stdout",
     "output_type": "stream",
     "text": [
      "8\n",
      "отлично\n",
      "0\n",
      "отлично\n",
      "0\n",
      "отлично\n",
      "0\n",
      "отлично\n",
      "1\n",
      "отлично\n",
      "1\n",
      "отлично\n",
      "2\n",
      "отлично\n",
      "2\n",
      "отлично\n",
      "3\n",
      "отлично\n",
      "3\n",
      "отлично\n",
      "3\n",
      "отлично\n",
      "3\n"
     ]
    }
   ],
   "source": [
    "A = [8, 9, 10]\n",
    "B = [6, 7]\n",
    "C = [4, 5]\n",
    "D = [0, 1, 2, 3]\n",
    "\n",
    "excelent = 'отлично'\n",
    "good = 'хорошо'\n",
    "bad = 'удовлетворительно'\n",
    "horrible = 'неуд'\n",
    "\n",
    "check = int(input())\n",
    "points = 0\n",
    "while points < len(categories.keys()):\n",
    "    for numbers in list(categories.values())[points]:\n",
    "        if check in A :\n",
    "            print(excelent)\n",
    "        elif check in B:\n",
    "            print(good)\n",
    "        elif check in C:\n",
    "            print(bad)\n",
    "        elif check in D:\n",
    "            print(horrible)\n",
    "        print(points)\n",
    "    points += 1"
   ]
  },
  {
   "cell_type": "markdown",
   "metadata": {},
   "source": [
    "Задание 8. Магнолия (2 балла)\n",
    "В магазине \"Магнолия\" проходит акция - даются скидки на товары, название которых начинается на заданную букву.\n",
    "У Маши есть список покупок, состоящий из строк вида \"цена, название, количество\". Помогите ей посчитать, сколько денег она сэкономит (общую сумму скидки).\n",
    "\n",
    "Количество записей в Машином списке покупок может быть любым. Каждая запись вводится с новой строки. Записи вводятся до тех пор, пока пользователь не введет \"Конец списка\". После этого одной строкой вводится буква, по которой сегодня определяется скидка. Если название продукта начинается на заданную букву, то на этот продукт действует скидка 15 процентов.\n",
    "Образец вывода смотрите в примере. Если ни на один товар скидка не действует, то программа должна вывести \"Скидка: 0 рублей\"\n",
    "\n",
    "Вы считали категории в список списков, где каждая строка выглядит как в образце - 1 балл\n",
    "[цена (int), название (str), количество (int)]\n",
    "\n",
    "\n",
    "Например, [120, мандарины (1 кг), 2]\n",
    "Подсчет скидки - 1 балл.\n",
    "Пример ввода\n",
    "120 руб., мандарины (1 кг), 2 кг.\n",
    "70 руб., молоко, 3 пакета\n",
    "15 руб., батон сдобный, 1 штука\n",
    "345 руб., белое вино, 1 бутылка\n",
    "120 руб., моцарелла, 2 упаковки\n",
    "Конец списка\n",
    "м\n",
    "Вывод\n",
    "Cкидка: 103.5 руб."
   ]
  },
  {
   "cell_type": "code",
   "execution_count": 6,
   "metadata": {
    "scrolled": true
   },
   "outputs": [
    {
     "name": "stdout",
     "output_type": "stream",
     "text": [
      "Введите цену, название, количество: 120 рублей, молоко, 1 пакет\n",
      "Введите цену, название, количество: 300 р., помидоры 1 кг\n",
      "Введите цену, название, количество: 400 р., мясо, 2.5 кг\n",
      "Введите цену, название, количество: 300, мандарины, 1 сетка\n",
      "Введите цену, название, количество: Конец списка\n",
      "['120 рублей, молоко, 1 пакет', '300 р., помидоры 1 кг', '400 р., мясо, 2.5 кг', '300, мандарины, 1 сетка']\n"
     ]
    }
   ],
   "source": [
    "user = input('Введите цену, название, количество: ')\n",
    "stop = 'Конец списка'\n",
    "lst = []\n",
    "while user != stop:\n",
    "    lst.append(user)\n",
    "    user = input('Введите цену, название, количество: ')\n",
    "print(lst)"
   ]
  },
  {
   "cell_type": "code",
   "execution_count": 29,
   "metadata": {},
   "outputs": [
    {
     "name": "stdout",
     "output_type": "stream",
     "text": [
      "120\n"
     ]
    }
   ],
   "source": [
    "print(str(lst[0])[0:3])"
   ]
  },
  {
   "cell_type": "code",
   "execution_count": 2,
   "metadata": {},
   "outputs": [
    {
     "name": "stdout",
     "output_type": "stream",
     "text": [
      "Введите количество: 3 упаковки\n",
      "Введите цену: 350\n",
      "Введите товар: молоко\n",
      "Введите количество: 1 кг\n",
      "Введите цену: 328\n",
      "Введите товар: помидоры\n",
      "Введите количество: Конец списка\n",
      "Введите цену: 100\n",
      "Введите товар: мандарины\n",
      "[['350, молоко, 3 упаковки'], ['328, помидоры, 1 кг']]\n"
     ]
    }
   ],
   "source": [
    "count = input('Введите количество: ')\n",
    "price = int(input('Введите цену: '))\n",
    "name = input('Введите товар: ')\n",
    "stop = 'Конец списка'\n",
    "shoplist = []\n",
    "\n",
    "while count != stop:\n",
    "    lst = [f'{price}, {name}, {count}']\n",
    "    shoplist.append(lst)\n",
    "    count = input('Введите количество: ')\n",
    "    price = int(input('Введите цену: '))\n",
    "    name = input('Введите товар: ')\n",
    "print(shoplist)"
   ]
  },
  {
   "cell_type": "code",
   "execution_count": null,
   "metadata": {},
   "outputs": [],
   "source": [
    "\n"
   ]
  }
 ],
 "metadata": {
  "kernelspec": {
   "display_name": "Python 3",
   "language": "python",
   "name": "python3"
  },
  "language_info": {
   "codemirror_mode": {
    "name": "ipython",
    "version": 3
   },
   "file_extension": ".py",
   "mimetype": "text/x-python",
   "name": "python",
   "nbconvert_exporter": "python",
   "pygments_lexer": "ipython3",
   "version": "3.7.4"
  }
 },
 "nbformat": 4,
 "nbformat_minor": 2
}
