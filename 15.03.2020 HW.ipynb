{
 "cells": [
  {
   "cell_type": "code",
   "execution_count": 1,
   "metadata": {},
   "outputs": [],
   "source": [
    "a = ['1', '0', '9', '9', '0', '9', '0', '9', '9']\n",
    "# найти четвертую '9'\n",
    "# найти число разных цифр\n",
    "# найти цифру, которая встречается чаще других\n",
    "# найти сумму всех цифр (каждая цифра учитывается только один раз) 1 + 0 + 9"
   ]
  },
  {
   "cell_type": "code",
   "execution_count": 2,
   "metadata": {},
   "outputs": [
    {
     "name": "stdout",
     "output_type": "stream",
     "text": [
      "7\n"
     ]
    }
   ],
   "source": [
    "i = 0\n",
    "j = 0\n",
    "count = 0\n",
    "while i < len(a):\n",
    "    if a[i] == '9':\n",
    "        count += 1 # нашел самую последнюю позицию девятки\n",
    "        j = i - 1 # нашел предпоследнюю позицию девятки\n",
    "    i += 1\n",
    "print(j)"
   ]
  },
  {
   "cell_type": "code",
   "execution_count": 3,
   "metadata": {},
   "outputs": [
    {
     "name": "stdout",
     "output_type": "stream",
     "text": [
      "2\n",
      "['1', '0', '9', '9', '0', '9', '0', '9', '9']\n",
      "3\n",
      "['1', '0', '9', '9', '0', '9', '0', '9', '9']\n",
      "5\n",
      "['1', '0', '9', '9', '0', '9', '0', '9', '9']\n",
      "7\n",
      "['1', '0', '9', '9', '0', '9', '0', '9', '9']\n",
      "8\n",
      "['1', '0', '9', '9', '0', '9', '0', '9', '9']\n",
      "['1', '0', '9', '9', '0', '9', '0', '9', '9']\n"
     ]
    }
   ],
   "source": [
    "i = 1\n",
    "n = 0\n",
    "while i < len(a):\n",
    "    a[i:]\n",
    "    if a[i] == '9':\n",
    "        print(i)\n",
    "        print(a)\n",
    "    i += 1\n",
    "print(a)"
   ]
  },
  {
   "cell_type": "code",
   "execution_count": 4,
   "metadata": {},
   "outputs": [
    {
     "name": "stdout",
     "output_type": "stream",
     "text": [
      "['1', '9', '9', '0', '9', '0', '9', '9']\n",
      "['1', '0', '9', '0', '9', '0', '9', '9']\n",
      "[8, '0', '9', '9', '0', '9', '0', '9', '9']\n"
     ]
    }
   ],
   "source": [
    "a = ['1', '0', '9', '9', '0', '9', '0', '9', '9']\n",
    "del a[1] # функция 'del' удаляет индекс из списка\n",
    "print(a)\n",
    "\n",
    "b = ['1', '0', '9', '9', '0', '9', '0', '9', '9']\n",
    "b.remove('9') # удаляет первый попавшийся элемент из списка\n",
    "print(b)\n",
    "\n",
    "t = ['1', '0', '9', '9', '0', '9', '0', '9', '9']\n",
    "t[0] = 8\n",
    "print(t)"
   ]
  },
  {
   "cell_type": "code",
   "execution_count": 5,
   "metadata": {},
   "outputs": [
    {
     "name": "stdout",
     "output_type": "stream",
     "text": [
      "['1', '0', '9', '0', '9', '0', '9', '9']\n",
      "['1', '0', '0', '9', '0', '9', '9']\n",
      "['1', '0', '0', '0', '9', '9']\n",
      "['1', '0', '0', '0', '9']\n",
      "['1', '0', '0', '0']\n"
     ]
    }
   ],
   "source": [
    "a = ['1', '0', '9', '9', '0', '9', '0', '9', '9']\n",
    "i = 0\n",
    "while i < len(a):\n",
    "        a.remove('9')\n",
    "        print(a)\n",
    "        i += 1"
   ]
  },
  {
   "cell_type": "markdown",
   "metadata": {},
   "source": [
    "# найти число разных цифр"
   ]
  },
  {
   "cell_type": "markdown",
   "metadata": {},
   "source": [
    "Первый способ"
   ]
  },
  {
   "cell_type": "code",
   "execution_count": 6,
   "metadata": {},
   "outputs": [
    {
     "data": {
      "text/plain": [
       "3"
      ]
     },
     "execution_count": 6,
     "metadata": {},
     "output_type": "execute_result"
    }
   ],
   "source": [
    "a = ['1', '0', '9', '9', '0', '9', '0', '9', '9']\n",
    "len(set(a))"
   ]
  },
  {
   "cell_type": "markdown",
   "metadata": {},
   "source": [
    "Второй способ"
   ]
  },
  {
   "cell_type": "code",
   "execution_count": 7,
   "metadata": {},
   "outputs": [
    {
     "data": {
      "text/plain": [
       "3"
      ]
     },
     "execution_count": 7,
     "metadata": {},
     "output_type": "execute_result"
    }
   ],
   "source": [
    "b = []\n",
    "for i in a:\n",
    "    if not i in b:\n",
    "        b.append(i)\n",
    "len(b)"
   ]
  },
  {
   "cell_type": "markdown",
   "metadata": {},
   "source": [
    "# найти цифру, которая встречается чаще других"
   ]
  },
  {
   "cell_type": "code",
   "execution_count": 143,
   "metadata": {},
   "outputs": [
    {
     "name": "stdout",
     "output_type": "stream",
     "text": [
      "1 1\n",
      "0 3\n",
      "9 5\n",
      "9 5\n",
      "0 3\n",
      "9 5\n",
      "0 3\n",
      "9 5\n",
      "9 5\n",
      "{1: 1, 0: 3, 9: 5}\n"
     ]
    }
   ],
   "source": [
    "a = ['1', '0', '9', '9', '0', '9', '0', '9', '9']\n",
    "b = list(map(int,a))\n",
    "c = {}\n",
    "\n",
    "i = 0\n",
    "count = 0\n",
    "\n",
    "while i < len(b):\n",
    "    count = b.count(b[i])\n",
    "    c[b[i]] = b.count(b[i])\n",
    "    print(b[i], count)\n",
    "    i += 1\n",
    "print(c)"
   ]
  },
  {
   "cell_type": "code",
   "execution_count": 150,
   "metadata": {},
   "outputs": [
    {
     "name": "stdout",
     "output_type": "stream",
     "text": [
      "0 0 0 0\n",
      "1 2 2 1\n",
      "2 0 2 1\n",
      "3 0 2 1\n",
      "4 0 2 1\n",
      "5 0 2 1\n",
      "6 0 2 1\n",
      "7 0 2 1\n",
      "8 0 2 1\n",
      "9 1 2 1\n",
      "1\n"
     ]
    }
   ],
   "source": [
    "a = ['1',  '9',  '1']\n",
    "b = list(map(int,a))\n",
    "c = {}\n",
    "\n",
    "i = 0\n",
    "count = 0\n",
    "previos = 0\n",
    "number = 0\n",
    "while i <= 9:\n",
    "    count = b.count(i)\n",
    "    if count > previos:\n",
    "        previos = count\n",
    "        number = i\n",
    "    print(i, count, previos, number)\n",
    "    i += 1\n",
    "print(number)"
   ]
  },
  {
   "cell_type": "markdown",
   "metadata": {},
   "source": [
    "# найти сумму всех цифр (каждая цифра учитывается только один раз) 1 + 0 + 9"
   ]
  },
  {
   "cell_type": "code",
   "execution_count": 10,
   "metadata": {},
   "outputs": [
    {
     "data": {
      "text/plain": [
       "10"
      ]
     },
     "execution_count": 10,
     "metadata": {},
     "output_type": "execute_result"
    }
   ],
   "source": [
    "a = ['1', '0', '9', '9', '0', '9', '0', '9', '9']\n",
    "b = list(map(int,a))\n",
    "sum(set(b))"
   ]
  },
  {
   "cell_type": "code",
   "execution_count": 135,
   "metadata": {},
   "outputs": [],
   "source": [
    "import numpy as np\n",
    "\n",
    "a = np.random.randint(0, 10000000, size=100000)"
   ]
  },
  {
   "cell_type": "code",
   "execution_count": 136,
   "metadata": {},
   "outputs": [
    {
     "name": "stdout",
     "output_type": "stream",
     "text": [
      "CPU times: user 2min 2s, sys: 962 ms, total: 2min 3s\n",
      "Wall time: 2min 5s\n"
     ]
    },
    {
     "data": {
      "text/plain": [
       "497462699283"
      ]
     },
     "execution_count": 136,
     "metadata": {},
     "output_type": "execute_result"
    }
   ],
   "source": [
    "%%time\n",
    "#a = ['1', '0', '9', '9', '0', '9', '0', '9', '9']\n",
    "b = []\n",
    "for i in a:\n",
    "    if not i in b:\n",
    "        b.append(i)\n",
    "c = list(map(int,b))\n",
    "sum(c)"
   ]
  },
  {
   "cell_type": "code",
   "execution_count": 90,
   "metadata": {},
   "outputs": [
    {
     "data": {
      "text/plain": [
       "[7, 1, 4, 3, 5, 2, 6, 9, 8, 0]"
      ]
     },
     "execution_count": 90,
     "metadata": {},
     "output_type": "execute_result"
    }
   ],
   "source": [
    "b"
   ]
  },
  {
   "cell_type": "code",
   "execution_count": null,
   "metadata": {},
   "outputs": [],
   "source": []
  }
 ],
 "metadata": {
  "kernelspec": {
   "display_name": "Python 3",
   "language": "python",
   "name": "python3"
  },
  "language_info": {
   "codemirror_mode": {
    "name": "ipython",
    "version": 3
   },
   "file_extension": ".py",
   "mimetype": "text/x-python",
   "name": "python",
   "nbconvert_exporter": "python",
   "pygments_lexer": "ipython3",
   "version": "3.7.4"
  }
 },
 "nbformat": 4,
 "nbformat_minor": 2
}
